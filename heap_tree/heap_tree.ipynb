{
 "cells": [
  {
   "cell_type": "markdown",
   "id": "fb14d7c0",
   "metadata": {},
   "source": [
    "# Heap Algorithm"
   ]
  },
  {
   "cell_type": "code",
   "execution_count": 138,
   "id": "75a1ae59-24ee-46d9-a5d7-32836480f5bb",
   "metadata": {},
   "outputs": [],
   "source": [
    "!pip -q install pandas\n",
    "!pip -q install openpyxl\n",
    "!pip -q install opencv-python\n",
    "!pip -q install matplotlib"
   ]
  },
  {
   "cell_type": "code",
   "execution_count": 139,
   "id": "63a7d05b-0b6c-4bd7-a6e4-9438e9659cd4",
   "metadata": {},
   "outputs": [],
   "source": [
    "import pandas as pd"
   ]
  },
  {
   "cell_type": "markdown",
   "id": "4497049a",
   "metadata": {},
   "source": [
    "### Read data"
   ]
  },
  {
   "cell_type": "code",
   "execution_count": 140,
   "id": "f889bef5-467b-42b1-bfe2-547a9285e99f",
   "metadata": {},
   "outputs": [],
   "source": [
    "df = pd.read_excel('books.xlsx')"
   ]
  },
  {
   "cell_type": "code",
   "execution_count": 141,
   "id": "f8180c67-43a2-4741-a005-45e020bdbc87",
   "metadata": {},
   "outputs": [
    {
     "name": "stdout",
     "output_type": "stream",
     "text": [
      "<class 'pandas.core.frame.DataFrame'>\n",
      "RangeIndex: 271379 entries, 0 to 271378\n",
      "Data columns (total 8 columns):\n",
      " #   Column               Non-Null Count   Dtype  \n",
      "---  ------               --------------   -----  \n",
      " 0   ISBN                 271379 non-null  object \n",
      " 1   Book-Title           271379 non-null  object \n",
      " 2   Book-Author          271377 non-null  object \n",
      " 3   Year-Of-Publication  271358 non-null  float64\n",
      " 4   Publisher            271377 non-null  object \n",
      " 5   Image-URL-S          271378 non-null  object \n",
      " 6   Image-URL-M          271379 non-null  object \n",
      " 7   Image-URL-L          271376 non-null  object \n",
      "dtypes: float64(1), object(7)\n",
      "memory usage: 16.6+ MB\n"
     ]
    }
   ],
   "source": [
    "df.info()"
   ]
  },
  {
   "cell_type": "code",
   "execution_count": 142,
   "id": "3394d60b-24f1-4bd7-866e-bc954cbd21ae",
   "metadata": {},
   "outputs": [
    {
     "data": {
      "text/html": [
       "<div>\n",
       "<style scoped>\n",
       "    .dataframe tbody tr th:only-of-type {\n",
       "        vertical-align: middle;\n",
       "    }\n",
       "\n",
       "    .dataframe tbody tr th {\n",
       "        vertical-align: top;\n",
       "    }\n",
       "\n",
       "    .dataframe thead th {\n",
       "        text-align: right;\n",
       "    }\n",
       "</style>\n",
       "<table border=\"1\" class=\"dataframe\">\n",
       "  <thead>\n",
       "    <tr style=\"text-align: right;\">\n",
       "      <th></th>\n",
       "      <th>Year-Of-Publication</th>\n",
       "    </tr>\n",
       "  </thead>\n",
       "  <tbody>\n",
       "    <tr>\n",
       "      <th>count</th>\n",
       "      <td>271358.000000</td>\n",
       "    </tr>\n",
       "    <tr>\n",
       "      <th>mean</th>\n",
       "      <td>1959.760965</td>\n",
       "    </tr>\n",
       "    <tr>\n",
       "      <th>std</th>\n",
       "      <td>257.993762</td>\n",
       "    </tr>\n",
       "    <tr>\n",
       "      <th>min</th>\n",
       "      <td>0.000000</td>\n",
       "    </tr>\n",
       "    <tr>\n",
       "      <th>25%</th>\n",
       "      <td>1989.000000</td>\n",
       "    </tr>\n",
       "    <tr>\n",
       "      <th>50%</th>\n",
       "      <td>1995.000000</td>\n",
       "    </tr>\n",
       "    <tr>\n",
       "      <th>75%</th>\n",
       "      <td>2000.000000</td>\n",
       "    </tr>\n",
       "    <tr>\n",
       "      <th>max</th>\n",
       "      <td>2050.000000</td>\n",
       "    </tr>\n",
       "  </tbody>\n",
       "</table>\n",
       "</div>"
      ],
      "text/plain": [
       "       Year-Of-Publication\n",
       "count        271358.000000\n",
       "mean           1959.760965\n",
       "std             257.993762\n",
       "min               0.000000\n",
       "25%            1989.000000\n",
       "50%            1995.000000\n",
       "75%            2000.000000\n",
       "max            2050.000000"
      ]
     },
     "execution_count": 142,
     "metadata": {},
     "output_type": "execute_result"
    }
   ],
   "source": [
    "df.describe()"
   ]
  },
  {
   "cell_type": "code",
   "execution_count": 143,
   "id": "359d4fa0-dc32-4d54-9a44-e819366211fa",
   "metadata": {},
   "outputs": [
    {
     "data": {
      "text/html": [
       "<div>\n",
       "<style scoped>\n",
       "    .dataframe tbody tr th:only-of-type {\n",
       "        vertical-align: middle;\n",
       "    }\n",
       "\n",
       "    .dataframe tbody tr th {\n",
       "        vertical-align: top;\n",
       "    }\n",
       "\n",
       "    .dataframe thead th {\n",
       "        text-align: right;\n",
       "    }\n",
       "</style>\n",
       "<table border=\"1\" class=\"dataframe\">\n",
       "  <thead>\n",
       "    <tr style=\"text-align: right;\">\n",
       "      <th></th>\n",
       "      <th>ISBN</th>\n",
       "      <th>Book-Title</th>\n",
       "      <th>Book-Author</th>\n",
       "      <th>Year-Of-Publication</th>\n",
       "      <th>Publisher</th>\n",
       "      <th>Image-URL-S</th>\n",
       "      <th>Image-URL-M</th>\n",
       "      <th>Image-URL-L</th>\n",
       "    </tr>\n",
       "  </thead>\n",
       "  <tbody>\n",
       "    <tr>\n",
       "      <th>0</th>\n",
       "      <td>0195153448</td>\n",
       "      <td>Classical Mythology</td>\n",
       "      <td>Mark P. O. Morford</td>\n",
       "      <td>2002.0</td>\n",
       "      <td>Oxford University Press</td>\n",
       "      <td>http://images.amazon.com/images/P/0195153448.0...</td>\n",
       "      <td>http://images.amazon.com/images/P/0195153448.0...</td>\n",
       "      <td>http://images.amazon.com/images/P/0195153448.0...</td>\n",
       "    </tr>\n",
       "    <tr>\n",
       "      <th>1</th>\n",
       "      <td>0002005018</td>\n",
       "      <td>Clara Callan</td>\n",
       "      <td>Richard Bruce Wright</td>\n",
       "      <td>2001.0</td>\n",
       "      <td>HarperFlamingo Canada</td>\n",
       "      <td>http://images.amazon.com/images/P/0002005018.0...</td>\n",
       "      <td>http://images.amazon.com/images/P/0002005018.0...</td>\n",
       "      <td>http://images.amazon.com/images/P/0002005018.0...</td>\n",
       "    </tr>\n",
       "    <tr>\n",
       "      <th>2</th>\n",
       "      <td>0060973129</td>\n",
       "      <td>Decision in Normandy</td>\n",
       "      <td>Carlo D'Este</td>\n",
       "      <td>1991.0</td>\n",
       "      <td>HarperPerennial</td>\n",
       "      <td>http://images.amazon.com/images/P/0060973129.0...</td>\n",
       "      <td>http://images.amazon.com/images/P/0060973129.0...</td>\n",
       "      <td>http://images.amazon.com/images/P/0060973129.0...</td>\n",
       "    </tr>\n",
       "    <tr>\n",
       "      <th>3</th>\n",
       "      <td>0374157065</td>\n",
       "      <td>Flu: The Story of the Great Influenza Pandemic...</td>\n",
       "      <td>Gina Bari Kolata</td>\n",
       "      <td>1999.0</td>\n",
       "      <td>Farrar Straus Giroux</td>\n",
       "      <td>http://images.amazon.com/images/P/0374157065.0...</td>\n",
       "      <td>http://images.amazon.com/images/P/0374157065.0...</td>\n",
       "      <td>http://images.amazon.com/images/P/0374157065.0...</td>\n",
       "    </tr>\n",
       "    <tr>\n",
       "      <th>4</th>\n",
       "      <td>0393045218</td>\n",
       "      <td>The Mummies of Urumchi</td>\n",
       "      <td>E. J. W. Barber</td>\n",
       "      <td>1999.0</td>\n",
       "      <td>W. W. Norton &amp;amp; Company</td>\n",
       "      <td>http://images.amazon.com/images/P/0393045218.0...</td>\n",
       "      <td>http://images.amazon.com/images/P/0393045218.0...</td>\n",
       "      <td>http://images.amazon.com/images/P/0393045218.0...</td>\n",
       "    </tr>\n",
       "  </tbody>\n",
       "</table>\n",
       "</div>"
      ],
      "text/plain": [
       "         ISBN                                         Book-Title  \\\n",
       "0  0195153448                                Classical Mythology   \n",
       "1  0002005018                                       Clara Callan   \n",
       "2  0060973129                               Decision in Normandy   \n",
       "3  0374157065  Flu: The Story of the Great Influenza Pandemic...   \n",
       "4  0393045218                             The Mummies of Urumchi   \n",
       "\n",
       "            Book-Author  Year-Of-Publication                   Publisher  \\\n",
       "0    Mark P. O. Morford               2002.0     Oxford University Press   \n",
       "1  Richard Bruce Wright               2001.0       HarperFlamingo Canada   \n",
       "2          Carlo D'Este               1991.0             HarperPerennial   \n",
       "3      Gina Bari Kolata               1999.0        Farrar Straus Giroux   \n",
       "4       E. J. W. Barber               1999.0  W. W. Norton &amp; Company   \n",
       "\n",
       "                                         Image-URL-S  \\\n",
       "0  http://images.amazon.com/images/P/0195153448.0...   \n",
       "1  http://images.amazon.com/images/P/0002005018.0...   \n",
       "2  http://images.amazon.com/images/P/0060973129.0...   \n",
       "3  http://images.amazon.com/images/P/0374157065.0...   \n",
       "4  http://images.amazon.com/images/P/0393045218.0...   \n",
       "\n",
       "                                         Image-URL-M  \\\n",
       "0  http://images.amazon.com/images/P/0195153448.0...   \n",
       "1  http://images.amazon.com/images/P/0002005018.0...   \n",
       "2  http://images.amazon.com/images/P/0060973129.0...   \n",
       "3  http://images.amazon.com/images/P/0374157065.0...   \n",
       "4  http://images.amazon.com/images/P/0393045218.0...   \n",
       "\n",
       "                                         Image-URL-L  \n",
       "0  http://images.amazon.com/images/P/0195153448.0...  \n",
       "1  http://images.amazon.com/images/P/0002005018.0...  \n",
       "2  http://images.amazon.com/images/P/0060973129.0...  \n",
       "3  http://images.amazon.com/images/P/0374157065.0...  \n",
       "4  http://images.amazon.com/images/P/0393045218.0...  "
      ]
     },
     "execution_count": 143,
     "metadata": {},
     "output_type": "execute_result"
    }
   ],
   "source": [
    "df.head()"
   ]
  },
  {
   "cell_type": "code",
   "execution_count": 144,
   "id": "a2c150cc-4a18-4c95-9903-0a8a1f8b3084",
   "metadata": {},
   "outputs": [],
   "source": [
    "new_df = df.dropna().drop_duplicates()"
   ]
  },
  {
   "cell_type": "markdown",
   "id": "0dec20c6",
   "metadata": {},
   "source": [
    "### Get data from dataframe"
   ]
  },
  {
   "cell_type": "code",
   "execution_count": 145,
   "id": "fa2ac2d4-66cf-43a3-b2e8-2ec07b9474a4",
   "metadata": {},
   "outputs": [],
   "source": [
    "class BookDetails:\n",
    "    def __init__(self):\n",
    "        self._year = None\n",
    "        self._isbn = None\n",
    "        self._publisher = None\n",
    "        self._book_title ,self._book_author = None, None\n",
    "        self._url_s ,self._url_m, self._url_l = None, None, None\n",
    "        self.allbook = []\n",
    "\n",
    "    def push(self, year, isbn, publisher, book_author, book_title, url_s, url_m, url_l):\n",
    "        self.allbook.append((year, \n",
    "                            isbn,\n",
    "                            publisher,\n",
    "                            (book_author, book_title),\n",
    "                            (url_s, url_m, url_l)))"
   ]
  },
  {
   "cell_type": "code",
   "execution_count": 146,
   "id": "cc9a1698-71a4-476a-8364-72b3ce99c512",
   "metadata": {},
   "outputs": [],
   "source": [
    "# Initialization class\n",
    "book = BookDetails()\n",
    "for index in range(len(new_df)):\n",
    "    row_details = new_df.iloc[index]\n",
    "    book.push(int(row_details['Year-Of-Publication']),\n",
    "              row_details['ISBN'],\n",
    "              row_details['Publisher'],\n",
    "              row_details['Book-Author'], row_details['Book-Title'],\n",
    "              row_details['Image-URL-S'], row_details['Image-URL-M'], row_details['Image-URL-L'])\n",
    "# Return book.allbook list"
   ]
  },
  {
   "cell_type": "markdown",
   "id": "658c91eb",
   "metadata": {},
   "source": [
    "### Algorithm"
   ]
  },
  {
   "cell_type": "code",
   "execution_count": 147,
   "id": "661654eb-d832-4e29-9479-1fea71201977",
   "metadata": {},
   "outputs": [],
   "source": [
    "class HeapTree:\n",
    "    def __init__(self):\n",
    "        self.lst = ['None']\n",
    "\n",
    "    def _swap(self, index):\n",
    "            left_index = index // 2 # parent node\n",
    "            if index > 1 and self.lst[index][0] < self.lst[left_index][0]: # move into parent node \n",
    "                self.lst[index], self.lst[left_index] = self.lst[left_index], self.lst[index] # swap\n",
    "                index = left_index\n",
    "                self._swap(index)\n",
    "    \n",
    "    def _delete_swap(self,index):\n",
    "            if self.lst[2*index][0] <= self.lst[2*index+1][0]: # compare between 2 nodes which have same level\n",
    "                if self.lst[index][0] > self.lst[2*index][0] and 2*index < len(self.lst):\n",
    "                    self.lst[index], self.lst[2*index] = self.lst[2*index], self.lst[index] # swap current node and left node\n",
    "                    new_index = 2*index\n",
    "                    self._delete_swap(new_index)\n",
    "            else:\n",
    "                if self.lst[index][0] > self.lst[2*index+1][0] and 2*index + 1 < len(self.lst):\n",
    "                    self.lst[index], self.lst[2*index+1] = self.lst[2*index+1], self.lst[index] # swap current node and right node\n",
    "                    new_index = 2*index + 1\n",
    "                    self._delete_swap(new_index)\n",
    "            \n",
    "                \n",
    "    def insert(self,content):\n",
    "        self.lst.append(content)\n",
    "        self._swap(len(self.lst) - 1) # call swap function\n",
    "\n",
    "    def delete(self): # remove smallest number\n",
    "        self.lst = self.lst[0:1] + self.lst[2:] # remove smallest element\n",
    "        self.lst.insert(1,self.lst.pop()) # move last element to first position\n",
    "        self._delete_swap(1) # arrange the heap tree\n",
    "        \n",
    "# get data into list\n",
    "tree = HeapTree()\n",
    "for bk in book.allbook:\n",
    "    tree.insert(bk)\n",
    "\n"
   ]
  },
  {
   "cell_type": "markdown",
   "id": "9a420ad7",
   "metadata": {},
   "source": [
    "### Operation"
   ]
  },
  {
   "cell_type": "code",
   "execution_count": 148,
   "id": "13398d3b",
   "metadata": {},
   "outputs": [
    {
     "name": "stdout",
     "output_type": "stream",
     "text": [
      "(0, '3150000335', 'Philipp Reclam, Jun Verlag GmbH', ('Schiller', 'Kabale Und Liebe'), ('http://images.amazon.com/images/P/3150000335.01.THUMBZZZ.jpg', 'http://images.amazon.com/images/P/3150000335.01.MZZZZZZZ.jpg', 'http://images.amazon.com/images/P/3150000335.01.LZZZZZZZ.jpg'))\n",
      "(0, '342311360X', 'Deutscher Taschenbuch Verlag (DTV)', ('Gabriel Garcia Marquez', 'Die Liebe in Den Zelten'), ('http://images.amazon.com/images/P/342311360X.01.THUMBZZZ.jpg', 'http://images.amazon.com/images/P/342311360X.01.MZZZZZZZ.jpg', 'http://images.amazon.com/images/P/342311360X.01.LZZZZZZZ.jpg'))\n",
      "(0, '0718144538', 'Michael Joseph Ltd', ('Dick Francis', 'Shattered Uk'), ('http://images.amazon.com/images/P/0718144538.01.THUMBZZZ.jpg', 'http://images.amazon.com/images/P/0718144538.01.MZZZZZZZ.jpg', 'http://images.amazon.com/images/P/0718144538.01.LZZZZZZZ.jpg'))\n",
      "(0, '0571197639', 'Faber Faber Inc', ('Barbara Kingsolver', 'Poisonwood Bible Edition Uk'), ('http://images.amazon.com/images/P/0571197639.01.THUMBZZZ.jpg', 'http://images.amazon.com/images/P/0571197639.01.MZZZZZZZ.jpg', 'http://images.amazon.com/images/P/0571197639.01.LZZZZZZZ.jpg'))\n",
      "(0, '3596214629', 'Fischer Taschenbuch Verlag GmbH', ('Golding', 'Herr Der Fliegen (Fiction, Poetry and Drama)'), ('http://images.amazon.com/images/P/3596214629.01.THUMBZZZ.jpg', 'http://images.amazon.com/images/P/3596214629.01.MZZZZZZZ.jpg', 'http://images.amazon.com/images/P/3596214629.01.LZZZZZZZ.jpg'))\n"
     ]
    }
   ],
   "source": [
    "def menu():\n",
    "    while True:\n",
    "        try:\n",
    "            choice = int(input('Input your choice (1,2,3): '))\n",
    "            if choice == 1: # display 5 book\n",
    "                for e in tree.lst[1:6]:\n",
    "                    print(e)\n",
    "            elif choice == 2:\n",
    "                break # exit\n",
    "            else:\n",
    "                pass\n",
    "        except:\n",
    "            print('Re-enter! again')\n",
    "\n",
    "menu()"
   ]
  }
 ],
 "metadata": {
  "kernelspec": {
   "display_name": "Python 3 (ipykernel)",
   "language": "python",
   "name": "python3"
  },
  "language_info": {
   "codemirror_mode": {
    "name": "ipython",
    "version": 3
   },
   "file_extension": ".py",
   "mimetype": "text/x-python",
   "name": "python",
   "nbconvert_exporter": "python",
   "pygments_lexer": "ipython3",
   "version": "3.12.3"
  }
 },
 "nbformat": 4,
 "nbformat_minor": 5
}
